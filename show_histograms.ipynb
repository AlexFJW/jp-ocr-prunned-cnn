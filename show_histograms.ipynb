{
 "cells": [
  {
   "cell_type": "code",
   "execution_count": 1,
   "metadata": {},
   "outputs": [
    {
     "name": "stdout",
     "output_type": "stream",
     "text": [
      "restored pickled etl2 data\n"
     ]
    }
   ],
   "source": [
    "from src.data.datasets import *\n",
    "import numpy as np\n",
    "import matplotlib.pyplot as plt\n",
    "bins = 2**4\n",
    "etl2 = Etl2Dataset()"
   ]
  },
  {
   "cell_type": "code",
   "execution_count": 2,
   "metadata": {},
   "outputs": [],
   "source": [
    "etl2_hist_edges = list(np.histogram(np.array(img), bins) for img, _ in iter(etl2))\n",
    "etl2_hists = np.array(list(hist for hist, _ in etl2_hist_edges))\n",
    "img_pixels = 60*60\n",
    "etl2_hists_normalized = etl2_hists/img_pixels\n",
    "mean_etl2_hist = np.mean(etl2_hists_normalized, axis=0)"
   ]
  },
  {
   "cell_type": "code",
   "execution_count": 3,
   "metadata": {},
   "outputs": [],
   "source": [
    "%matplotlib inline"
   ]
  },
  {
   "cell_type": "code",
   "execution_count": 4,
   "metadata": {},
   "outputs": [
    {
     "data": {
      "image/png": "[encoded data removed]",
      "text/plain": [
       "<matplotlib.figure.Figure at 0x14c28ecc0>"
      ]
     },
     "metadata": {},
     "output_type": "display_data"
    }
   ],
   "source": [
    "# average histogram of etl2 in logscale:\n",
    "etl2_bar = plt.bar(np.arange(bins), mean_etl2_hist, log=True)\n",
    "plt.xlabel('Intensity')\n",
    "plt.ylabel('Count')\n",
    "plt.show()"
   ]
  },
  {
   "cell_type": "code",
   "execution_count": 5,
   "metadata": {},
   "outputs": [
    {
     "name": "stdout",
     "output_type": "stream",
     "text": [
      "processing raw etl9g data\n"
     ]
    }
   ],
   "source": [
    "etl9g = Etl9GDataset()"
   ]
  },
  {
   "cell_type": "code",
   "execution_count": 6,
   "metadata": {},
   "outputs": [],
   "source": [
    "etl9g_hist_edges = list(np.histogram(np.array(img), bins) for img, _ in iter(etl9g))\n",
    "etl9g_hists = np.array(list(hist for hist, _ in etl9g_hist_edges))\n",
    "img_pixels = 128*127\n",
    "etl9g_hists_normalized = etl9g_hists/img_pixels\n",
    "mean_etl9g_hist = np.mean(etl9g_hists, axis=0)"
   ]
  },
  {
   "cell_type": "code",
   "execution_count": 7,
   "metadata": {},
   "outputs": [
    {
     "data": {
      "image/png": "[encoded data removed]",
      "text/plain": [
       "<matplotlib.figure.Figure at 0x17a520358>"
      ]
     },
     "metadata": {},
     "output_type": "display_data"
    }
   ],
   "source": [
    "# average histogram of etl9g in logscale:\n",
    "etl9g_bar = plt.bar(np.arange(bins), mean_etl9g_hist, log=True)\n",
    "plt.xlabel('Intensity')\n",
    "plt.ylabel('Count')\n",
    "plt.show()"
   ]
  }
 ],
 "metadata": {
  "kernelspec": {
   "display_name": "Python 3",
   "language": "python",
   "name": "python3"
  },
  "language_info": {
   "codemirror_mode": {
    "name": "ipython",
    "version": 3
   },
   "file_extension": ".py",
   "mimetype": "text/x-python",
   "name": "python",
   "nbconvert_exporter": "python",
   "pygments_lexer": "ipython3",
   "version": "3.6.3"
  }
 },
 "nbformat": 4,
 "nbformat_minor": 1
}
